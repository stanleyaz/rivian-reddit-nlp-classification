{
 "cells": [
  {
   "cell_type": "markdown",
   "id": "0bde6372-d1c7-407f-8a14-8404f99a11db",
   "metadata": {},
   "source": [
    "# **Data preprocessing and modeling**"
   ]
  },
  {
   "cell_type": "code",
   "execution_count": 554,
   "id": "4e56d467-a3b4-4e4e-98cf-70f8ce2a4cd8",
   "metadata": {},
   "outputs": [],
   "source": [
    "#imports\n",
    "import pandas as pd\n",
    "import matplotlib.pyplot as plt\n",
    "import seaborn as sns\n",
    "import numpy as np\n",
    "\n",
    "from sklearn.feature_extraction.text import CountVectorizer, TfidfVectorizer\n",
    "from sklearn.feature_extraction import text\n",
    "from sklearn.pipeline import Pipeline\n",
    "from sklearn.ensemble import RandomForestClassifier, BaggingClassifier, StackingClassifier, AdaBoostClassifier, GradientBoostingClassifier, VotingClassifier\n",
    "from sklearn.linear_model import LogisticRegression\n",
    "from sklearn.neighbors import KNeighborsClassifier\n",
    "from sklearn.naive_bayes import MultinomialNB\n",
    "from sklearn import metrics\n",
    "from nltk.corpus import stopwords\n",
    "from nltk.stem import SnowballStemmer\n",
    "from nltk.tokenize import word_tokenize\n",
    "from sklearn.model_selection import train_test_split, GridSearchCV, RandomizedSearchCV, cross_val_score\n",
    "from sklearn.preprocessing import StandardScaler\n",
    "from sklearn.compose import ColumnTransformer\n",
    "\n",
    "import re"
   ]
  },
  {
   "cell_type": "code",
   "execution_count": 435,
   "id": "ee4f8732-3485-4869-a9af-58cc781f875d",
   "metadata": {},
   "outputs": [
    {
     "data": {
      "text/html": [
       "<div>\n",
       "<style scoped>\n",
       "    .dataframe tbody tr th:only-of-type {\n",
       "        vertical-align: middle;\n",
       "    }\n",
       "\n",
       "    .dataframe tbody tr th {\n",
       "        vertical-align: top;\n",
       "    }\n",
       "\n",
       "    .dataframe thead th {\n",
       "        text-align: right;\n",
       "    }\n",
       "</style>\n",
       "<table border=\"1\" class=\"dataframe\">\n",
       "  <thead>\n",
       "    <tr style=\"text-align: right;\">\n",
       "      <th></th>\n",
       "      <th>subreddit</th>\n",
       "      <th>title</th>\n",
       "    </tr>\n",
       "  </thead>\n",
       "  <tbody>\n",
       "    <tr>\n",
       "      <th>0</th>\n",
       "      <td>cars</td>\n",
       "      <td>Need help for an article</td>\n",
       "    </tr>\n",
       "    <tr>\n",
       "      <th>1</th>\n",
       "      <td>cars</td>\n",
       "      <td>We have a 2014 Nissan Rogue. Just found out ab...</td>\n",
       "    </tr>\n",
       "    <tr>\n",
       "      <th>2</th>\n",
       "      <td>cars</td>\n",
       "      <td>Audi manual transmission?</td>\n",
       "    </tr>\n",
       "    <tr>\n",
       "      <th>3</th>\n",
       "      <td>cars</td>\n",
       "      <td>How much would a paint job cost to cover up tw...</td>\n",
       "    </tr>\n",
       "    <tr>\n",
       "      <th>4</th>\n",
       "      <td>cars</td>\n",
       "      <td>What car is Jeezy riding in this music video? ...</td>\n",
       "    </tr>\n",
       "  </tbody>\n",
       "</table>\n",
       "</div>"
      ],
      "text/plain": [
       "  subreddit                                              title\n",
       "0      cars                           Need help for an article\n",
       "1      cars  We have a 2014 Nissan Rogue. Just found out ab...\n",
       "2      cars                          Audi manual transmission?\n",
       "3      cars  How much would a paint job cost to cover up tw...\n",
       "4      cars  What car is Jeezy riding in this music video? ..."
      ]
     },
     "execution_count": 435,
     "metadata": {},
     "output_type": "execute_result"
    }
   ],
   "source": [
    "ev_cars = pd.read_csv('../data/ev_cars_cleaned.csv')\n",
    "\n",
    "ev_cars.head()"
   ]
  },
  {
   "cell_type": "code",
   "execution_count": 436,
   "id": "207f6d94-8caf-42f0-9dc9-7a028901f49c",
   "metadata": {},
   "outputs": [
    {
     "name": "stdout",
     "output_type": "stream",
     "text": [
      "(7447, 2)\n",
      "<class 'pandas.core.frame.DataFrame'>\n",
      "RangeIndex: 7447 entries, 0 to 7446\n",
      "Data columns (total 2 columns):\n",
      " #   Column     Non-Null Count  Dtype \n",
      "---  ------     --------------  ----- \n",
      " 0   subreddit  7447 non-null   object\n",
      " 1   title      7447 non-null   object\n",
      "dtypes: object(2)\n",
      "memory usage: 116.5+ KB\n"
     ]
    }
   ],
   "source": [
    "print(ev_cars.shape)\n",
    "ev_cars.info()"
   ]
  },
  {
   "cell_type": "markdown",
   "id": "29949685-69c5-4739-9d74-ce4350cb118e",
   "metadata": {},
   "source": [
    "Everything looks in order for preprocessing work to begin. Before delving into any of that, I'll split `ev_cars` into a train and test set.\n",
    "\n",
    "## Splitting into train and test sets"
   ]
  },
  {
   "cell_type": "code",
   "execution_count": 437,
   "id": "ef04e2ec-3f9f-41d6-9347-8d1ccaa872e0",
   "metadata": {},
   "outputs": [
    {
     "data": {
      "text/plain": [
       "((5585,), (1862,), (5585,), (1862,))"
      ]
     },
     "execution_count": 437,
     "metadata": {},
     "output_type": "execute_result"
    }
   ],
   "source": [
    "X_train, X_test, y_train, y_test = train_test_split(ev_cars['title'], \n",
    "                                                    ev_cars['subreddit'],\n",
    "                                                    stratify= ev_cars['subreddit'],\n",
    "                                                    test_size=0.25,\n",
    "                                                    random_state=42\n",
    "                                                   )\n",
    "\n",
    "X_train.shape, X_test.shape, y_train.shape, y_test.shape"
   ]
  },
  {
   "cell_type": "markdown",
   "id": "305332a2-eff1-4880-af48-48ad09914535",
   "metadata": {},
   "source": [
    "There are over 5_000 samples in our train set and almost 2_000 samples in our test set. This looks like a sizeable number to train a model and test it. I feel comfortable with this, so I'll proceed.  \n",
    "\n",
    "## Baseline Accuracy - 58% as seen below"
   ]
  },
  {
   "cell_type": "code",
   "execution_count": 6,
   "id": "d1b762e1-0360-424f-a197-cd36e300c1e0",
   "metadata": {},
   "outputs": [
    {
     "name": "stdout",
     "output_type": "stream",
     "text": [
      "Proportion in the complete dataset\n",
      "cars                0.580905\n",
      "electricvehicles    0.419095\n",
      "Name: subreddit, dtype: float64\n",
      "--------------------\n",
      "Proportion in the training dataset\n",
      "cars                0.580842\n",
      "electricvehicles    0.419158\n",
      "Name: subreddit, dtype: float64\n",
      "--------------------\n",
      "Proportion in the test dataset\n",
      "cars                0.581096\n",
      "electricvehicles    0.418904\n",
      "Name: subreddit, dtype: float64\n",
      "--------------------\n"
     ]
    }
   ],
   "source": [
    "#The proportions of the two classes in our train and test sets approximates the proportion in our complete dataset\n",
    "print(f'Proportion in the complete dataset')\n",
    "print(ev_cars['subreddit'].value_counts(normalize=True))\n",
    "print('-'*20)\n",
    "print(f'Proportion in the training dataset')\n",
    "print(y_train.value_counts(normalize=True))\n",
    "print('-'*20)\n",
    "print(f'Proportion in the test dataset')\n",
    "print(y_test.value_counts(normalize=True))\n",
    "print('-'*20)"
   ]
  },
  {
   "cell_type": "markdown",
   "id": "91e09f4d-b830-45b9-9600-732ce0e8cab9",
   "metadata": {},
   "source": [
    "The baseline accuracy is 58%, this - as seen above - represents the proportion of the majority class, which in our dataset is the `cars` subreddit. If our model performs worse than this baseline accuracy, it is useless. \n",
    "\n",
    "## Preprocessing with the CountVectorizer and initializing our first model\n",
    "\n",
    "I previously used the CountVectorizer on the combined dataset for the purpose of EDA. I am going to use the CountVectorizer again now for my preprocessing and modeling. \n",
    "\n",
    "- This time I would set it up as the first stage of a pipeline. \n",
    "- The second stage of the pipeline would be an estimator. I have decided to start with a LogisticRegression model - which is a fast and versatile estimator. \n",
    "- Just like in my EDA notebook, I am going to define a custom stemmer, preprocessor, and I'll use english stopwords. \n",
    "- I'll also tune the hyperparameters in my pipeline, using a RandomizedSearchCV"
   ]
  },
  {
   "cell_type": "code",
   "execution_count": 133,
   "id": "1182b639-84d4-4a29-a65d-279778151277",
   "metadata": {},
   "outputs": [],
   "source": [
    "#Defining a custom stemmer function\n",
    "def my_stemmer(text):\n",
    "    stemmer = SnowballStemmer('english')\n",
    "    return [stemmer.stem(w) for w in text.split(\" \")]\n",
    "\n",
    "#ensuring the preprocessing is the same in my stopwords\n",
    "stemmer = SnowballStemmer('english')\n",
    "stem_stopwords = [stemmer.stem(w) for w in stopwords.words('english')]\n",
    "\n",
    "#Custom preprocessor\n",
    "def my_preprocessor(text):\n",
    "    text = text.lower()\n",
    "    text = re.sub('\\\\n', '', text)\n",
    "    text = re.findall(\"[\\w']+|\\$[\\d\\.]+\", text)\n",
    "    text = \" \".join(text)\n",
    "    \n",
    "    return text"
   ]
  },
  {
   "cell_type": "code",
   "execution_count": 8,
   "id": "e8d16927-9cd7-4833-9e13-656c00bb3092",
   "metadata": {},
   "outputs": [
    {
     "name": "stdout",
     "output_type": "stream",
     "text": [
      "Train score: 0.866251373424734\n",
      "The Test accuracy of this Logistic Regression model is: 0.8603651987110634\n",
      "The Misclassification rate of this Logistic Regression model is 0.13963480128893657\n",
      "The F1 score of this Logistic Regression model is 0.8839285714285714\n"
     ]
    }
   ],
   "source": [
    "pipe_1 = Pipeline([\n",
    "    ('cvec', CountVectorizer(stop_words= stem_stopwords, tokenizer=my_stemmer, preprocessor=my_preprocessor)),\n",
    "    ('logr', LogisticRegression(random_state=42))\n",
    "])\n",
    "\n",
    "#the parameters of my pipeline that would be used for tuning in the RandomizedSearchCV\n",
    "pipe_params1 = {\n",
    "    'cvec__max_features': [2800, 3000, 3500, 4000, 10000, 11000, 11500],\n",
    "    'cvec__min_df': [1, 2, 3, 4, 5],\n",
    "    'cvec__max_df': [0.9, 0.95, 0.98],\n",
    "   'cvec__ngram_range': [(1,2), (1,3), (2,2), (3,3)],\n",
    "    'logr__C': [1.4, 1.5, 2, 3, 3.5, 4]\n",
    "}\n",
    "\n",
    "#Instantiate a RandomizedSearchCV\n",
    "grid_1 = RandomizedSearchCV(pipe_1, param_distributions=pipe_params1, cv=3, n_jobs=-1, random_state=42)\n",
    "\n",
    "#fit grid_1 on the training data\n",
    "grid_1.fit(X_train, y_train)\n",
    "\n",
    "#make predictions\n",
    "y_pred_1 = grid_1.predict(X_test)\n",
    "\n",
    "print(f'Train score: {grid_1.best_score_}')\n",
    "\n",
    "print(f'The Test accuracy of this Logistic Regression model is: {grid_1.score(X_test, y_test)}')\n",
    "print(f'The Misclassification rate of this Logistic Regression model is {1-grid_1.score(X_test, y_test)}')\n",
    "print(f'The F1 score of this Logistic Regression model is {metrics.f1_score(y_test, y_pred_1, pos_label = \"cars\")}')"
   ]
  },
  {
   "cell_type": "code",
   "execution_count": 9,
   "id": "667d1728-0550-4d5e-8073-af698a2f251a",
   "metadata": {},
   "outputs": [
    {
     "data": {
      "text/plain": [
       "{'logr__C': 3,\n",
       " 'cvec__ngram_range': (1, 3),\n",
       " 'cvec__min_df': 1,\n",
       " 'cvec__max_features': 10000,\n",
       " 'cvec__max_df': 0.98}"
      ]
     },
     "execution_count": 9,
     "metadata": {},
     "output_type": "execute_result"
    }
   ],
   "source": [
    "grid_1.best_params_"
   ]
  },
  {
   "cell_type": "markdown",
   "id": "fae4a604-dd51-4661-b9d4-4f7c110648ca",
   "metadata": {},
   "source": [
    "**Some takeaways from this model**\n",
    "1. Our accuracy for this model is 86.0%. That is much better than the baseline accuracy of 58%. \n",
    "\n",
    "2. In addition, the `best_score_` of 86.6% for our training data is close to the 86.0% obtained on our test data. This indicates that our model is not overfitting and is generalizing well to unseen data. \n",
    "\n",
    "3. The model is misclassifying almost 14 out of every 100 posts. Our target is a maximum of 10 misclassifications. \n",
    "\n",
    "4. At 0.88, our `F1 score` is high and indicates a good balance between our recall and precision scores, and shows that this is a good model.\n",
    "\n",
    "## Next up, we would use a RandomForestClassifier "
   ]
  },
  {
   "cell_type": "code",
   "execution_count": 11,
   "id": "3476db77-f1f5-481e-8ac8-1b24163db07b",
   "metadata": {},
   "outputs": [
    {
     "name": "stdout",
     "output_type": "stream",
     "text": [
      "Train score: 0.8153983885407341\n",
      "The Test accuracy of this model is: 0.8018259935553169\n",
      "The Misclassification rate of this model is 0.19817400644468308\n",
      "The F1 score of this model is 0.8459290187891441\n"
     ]
    }
   ],
   "source": [
    "pipe_2 = Pipeline([\n",
    "    ('cvec', CountVectorizer(stop_words= stem_stopwords, tokenizer=my_stemmer, preprocessor=my_preprocessor)),\n",
    "    ('rf', RandomForestClassifier(random_state=0))])\n",
    "\n",
    "#the parameters of my pipeline that would be used for tuning in the GridSearchCV\n",
    "pipe_params2 = {\n",
    "    \n",
    "    'cvec__min_df': [2, 3, 4, 5],\n",
    "    'cvec__max_features': [7500, 9000, 10000, 11000, 12000],\n",
    "    'cvec__max_df': [0.9, 0.95, 0.98, 0.99],\n",
    "    'cvec__ngram_range': [(1,2), (1,3), (2,2), (2,3)],\n",
    "    'rf__min_samples_split': [30, 40, 50, 70, 100],\n",
    "    'rf__min_samples_leaf': [30, 40, 50, 60, 70],\n",
    "    'rf__max_depth': [5,7,9,10],\n",
    "    'rf__max_features': ['auto', 0.2, 0.3, 0.4, 'log2'],\n",
    "    'rf__n_estimators': [2500, 3000, 3500, 4000]\n",
    "}\n",
    "\n",
    "grid_2 = RandomizedSearchCV(pipe_2, param_distributions=pipe_params2, cv=5, n_jobs=-1, n_iter=60, random_state=0)\n",
    "\n",
    "#fit grid_2 on the training data\n",
    "grid_2.fit(X_train, y_train)\n",
    "\n",
    "#make predictions\n",
    "y_pred_2 = grid_2.predict(X_test)\n",
    "\n",
    "print(f'Train score: {grid_2.best_score_}')\n",
    "\n",
    "print(f'The Test accuracy of this model is: {grid_2.score(X_test, y_test)}')\n",
    "print(f'The Misclassification rate of this model is {1-grid_2.score(X_test, y_test)}')\n",
    "print(f'The F1 score of this model is {metrics.f1_score(y_test, y_pred_2, pos_label = \"cars\")}')"
   ]
  },
  {
   "cell_type": "code",
   "execution_count": 12,
   "id": "e580f6ab-5819-4e3b-afae-74ce8f450c5c",
   "metadata": {},
   "outputs": [
    {
     "data": {
      "text/plain": [
       "{'rf__n_estimators': 4000,\n",
       " 'rf__min_samples_split': 50,\n",
       " 'rf__min_samples_leaf': 30,\n",
       " 'rf__max_features': 0.3,\n",
       " 'rf__max_depth': 10,\n",
       " 'cvec__ngram_range': (1, 2),\n",
       " 'cvec__min_df': 4,\n",
       " 'cvec__max_features': 12000,\n",
       " 'cvec__max_df': 0.95}"
      ]
     },
     "execution_count": 12,
     "metadata": {},
     "output_type": "execute_result"
    }
   ],
   "source": [
    "grid_2.best_params_"
   ]
  },
  {
   "cell_type": "markdown",
   "id": "6bd0eb12-2ab2-440b-81ee-ea549bd09cda",
   "metadata": {},
   "source": [
    "The performance of this Random Forest model is substantially worse than that of the Logistic Regression model. We only managed an accuracy of 80.2% compared in our test data. While this is better than the baseline, it is well short of the 90% target test accuracy. Despite this model being significantly less accurate than the previous one, the F1 score of 0.85 is quite close to the 0.88 obtained in previous model. This indicates a good model.\n",
    "\n",
    "|Model Number|Model Type|Test Accuracy Achieved|Misclassification Rate|F1 Score|\n",
    "|---|---|---|---|---|\n",
    "|1|Logistic Regression|86.0%|14.0%|0.88|\n",
    "|2|Random Forest|80.2%|19.8%|0.85|\n",
    "\n",
    "## Next up - Multinomial Naive Bayes"
   ]
  },
  {
   "cell_type": "code",
   "execution_count": 13,
   "id": "d49d2333-0fb0-4fbc-8324-1ad068ca898b",
   "metadata": {},
   "outputs": [
    {
     "name": "stdout",
     "output_type": "stream",
     "text": [
      "Train score: 0.8658907788719785\n",
      "The Test accuracy of this model is: 0.8539205155746509\n",
      "The Misclassification rate of this model is 0.14607948442534913\n",
      "The F1 score of this model is 0.8710900473933649\n"
     ]
    }
   ],
   "source": [
    "pipe_3 = Pipeline([\n",
    "    ('cvec', CountVectorizer(stop_words= stem_stopwords, tokenizer=my_stemmer, preprocessor=my_preprocessor)),\n",
    "    ('mnb', MultinomialNB())\n",
    "])\n",
    "\n",
    "#the parameters of my pipeline that would be used for tuning in the GridSearchCV\n",
    "pipe_params3 = {\n",
    "    'cvec__max_features': [9000, 10000, 11000, 12000, 13000],\n",
    "   'cvec__min_df': [1, 2, 3, 5, 6],\n",
    "   'cvec__max_df': [0.95, 0.98, 0.99],\n",
    "   'cvec__ngram_range': [(1,2), (1,3), (2,2), (1,1)],\n",
    "    'mnb__alpha': [0.1, 0.05, 0.5, 1.0]\n",
    "    } \n",
    "\n",
    "#Instantiate a RandomizedSearchCV\n",
    "grid_3 = RandomizedSearchCV(pipe_3, param_distributions=pipe_params3, cv=5, n_jobs=-1, random_state=0)\n",
    "\n",
    "\n",
    "grid_3.fit(X_train, y_train)\n",
    "\n",
    "#make predictions\n",
    "y_pred_3 = grid_3.predict(X_test)\n",
    "\n",
    "print(f'Train score: {grid_3.best_score_}')\n",
    "\n",
    "print(f'The Test accuracy of this model is: {grid_3.score(X_test, y_test)}')\n",
    "print(f'The Misclassification rate of this model is {1-grid_3.score(X_test, y_test)}')\n",
    "print(f'The F1 score of this model is {metrics.f1_score(y_test, y_pred_3, pos_label = \"cars\")}')"
   ]
  },
  {
   "cell_type": "code",
   "execution_count": 14,
   "id": "859ab5d1-2056-465f-b8c9-fcc92a4f01ff",
   "metadata": {},
   "outputs": [
    {
     "data": {
      "text/plain": [
       "{'mnb__alpha': 1.0,\n",
       " 'cvec__ngram_range': (1, 2),\n",
       " 'cvec__min_df': 3,\n",
       " 'cvec__max_features': 9000,\n",
       " 'cvec__max_df': 0.99}"
      ]
     },
     "execution_count": 14,
     "metadata": {},
     "output_type": "execute_result"
    }
   ],
   "source": [
    "grid_3.best_params_"
   ]
  },
  {
   "cell_type": "markdown",
   "id": "19c291ab-8d49-48aa-97ec-2150090e3e4f",
   "metadata": {},
   "source": [
    "|Model Number|Model Type|Test Accuracy Achieved|Misclassification Rate|F1 Score|\n",
    "|---|---|---|---|---|\n",
    "|1|Logistic Regression|86.0%|14.0%|0.88|\n",
    "|2|Random Forest|80.2%|19.8%|0.85|\n",
    "|3|Multinomial Naive Bayes|85.4%|14.6%|0.87|\n",
    "\n",
    "At this point, since my three models so far have failed to achieve my target accuracy, I would like to tackle this classification problem via other ensemble methods, with the expectation that combining multiple models together would produce a more powerful model. Next would be a Bagging Classifier, using LogisticRegression as the base estimator (even though LR model do not overfit easily, I have decided to use this in my Bagging Classifier just because the LR model has performed the best of all my models so far). \n",
    "\n",
    "## Bagging Classifier"
   ]
  },
  {
   "cell_type": "code",
   "execution_count": 15,
   "id": "e6ac1cd3-9555-43a1-9591-6f4b145fe41e",
   "metadata": {},
   "outputs": [
    {
     "name": "stderr",
     "output_type": "stream",
     "text": [
      "/Users/stanleyaz/opt/anaconda3/lib/python3.9/site-packages/joblib/externals/loky/process_executor.py:702: UserWarning: A worker stopped while some jobs were given to the executor. This can be caused by a too short worker timeout or by a memory leak.\n",
      "  warnings.warn(\n"
     ]
    },
    {
     "name": "stdout",
     "output_type": "stream",
     "text": [
      "Train score: 0.8689346463742167\n",
      "The Test accuracy of this model is: 0.8678839957035446\n",
      "The Misclassification rate of this model is 0.13211600429645542\n",
      "The F1 score of this model is 0.8906666666666667\n"
     ]
    }
   ],
   "source": [
    "pipe_4 = Pipeline([\n",
    "    ('cvec', CountVectorizer(stop_words= stem_stopwords, tokenizer=my_stemmer, preprocessor=my_preprocessor)),\n",
    "    ('bag', BaggingClassifier(base_estimator=LogisticRegression(), random_state=42, n_jobs=-1))\n",
    "])\n",
    "\n",
    "pipe_params4 = {\n",
    "    'cvec__max_features': [10000, 11000, 12000, 13000],\n",
    "    'cvec__min_df': [2, 3, 5],\n",
    "    'cvec__max_df': [0.95, 0.98, 0.99],\n",
    "   'cvec__ngram_range': [(1,2), (1,3), (2,2), (1,1)],\n",
    "    'bag__n_estimators': [10, 50, 100, 150],\n",
    "    'bag__base_estimator__C': [0.001, 2.5, 3, 3.5]\n",
    "}\n",
    "\n",
    "\n",
    "grid_4 = RandomizedSearchCV(pipe_4, param_distributions=pipe_params4, cv=5, n_jobs=-1, random_state=0)\n",
    "\n",
    "grid_4.fit(X_train, y_train)\n",
    "\n",
    "#make predictions\n",
    "y_pred_4 = grid_4.predict(X_test)\n",
    "\n",
    "print(f'Train score: {grid_4.best_score_}')\n",
    "\n",
    "print(f'The Test accuracy of this model is: {grid_4.score(X_test, y_test)}')\n",
    "print(f'The Misclassification rate of this model is {1-grid_4.score(X_test, y_test)}')\n",
    "print(f'The F1 score of this model is {metrics.f1_score(y_test, y_pred_4, pos_label = \"cars\")}')"
   ]
  },
  {
   "cell_type": "code",
   "execution_count": 16,
   "id": "329b5363-2fde-4172-8adb-a7ba9a057744",
   "metadata": {},
   "outputs": [
    {
     "data": {
      "text/plain": [
       "{'cvec__ngram_range': (1, 3),\n",
       " 'cvec__min_df': 2,\n",
       " 'cvec__max_features': 12000,\n",
       " 'cvec__max_df': 0.95,\n",
       " 'bag__n_estimators': 150,\n",
       " 'bag__base_estimator__C': 2.5}"
      ]
     },
     "execution_count": 16,
     "metadata": {},
     "output_type": "execute_result"
    }
   ],
   "source": [
    "grid_4.best_params_"
   ]
  },
  {
   "cell_type": "markdown",
   "id": "5e11b243-efa5-443c-b2c0-8b9705d442c8",
   "metadata": {},
   "source": [
    "The above bagged classifier using Logistic Regression as the base estimator is now slightly our best model so far with a test accuracy of 86.8%, and an F1 score of almost 0.9.  \n",
    "\n",
    "|Model Number|Model Type|Test Accuracy Achieved|Misclassification Rate|F1 Score|\n",
    "|---|---|---|---|---|\n",
    "|1|Logistic Regression|86.0%|14.0%|0.88|\n",
    "|2|Random Forest|80.2%|19.8%|0.85|\n",
    "|3|Multinomial Naive Bayes|85.3%|14.7%|0.87|\n",
    "|4|Bagged Classifier with LR base estimator|86.8%|13.2%|0.89|\n",
    "\n",
    "Can we try this bagging method again, using a Random Forest classifier instead? "
   ]
  },
  {
   "cell_type": "code",
   "execution_count": 21,
   "id": "4bae0805-1c9f-4003-854b-dd4001dd649d",
   "metadata": {},
   "outputs": [
    {
     "name": "stderr",
     "output_type": "stream",
     "text": [
      "/Users/stanleyaz/opt/anaconda3/lib/python3.9/site-packages/joblib/externals/loky/process_executor.py:702: UserWarning: A worker stopped while some jobs were given to the executor. This can be caused by a too short worker timeout or by a memory leak.\n",
      "  warnings.warn(\n"
     ]
    },
    {
     "name": "stdout",
     "output_type": "stream",
     "text": [
      "Train score: 0.8726947179946285\n",
      "The Test accuracy of this model is: 0.8651987110633728\n",
      "The Misclassification rate of this model is 0.13480128893662724\n",
      "The F1 score of this model is 0.8872923215087561\n"
     ]
    }
   ],
   "source": [
    "pipe_5 = Pipeline([\n",
    "    ('cvec', CountVectorizer(stop_words= stem_stopwords, tokenizer=my_stemmer, preprocessor=my_preprocessor)),\n",
    "    ('bag', BaggingClassifier(base_estimator=RandomForestClassifier()))\n",
    "])\n",
    "\n",
    "pipe_params5 = {\n",
    "    'cvec__max_features': [10000, 11000],\n",
    "    'cvec__min_df': [2, 3, 5],\n",
    "    'cvec__max_df': [0.95, 0.98],\n",
    "   'cvec__ngram_range': [(1,2), (1,3)],\n",
    "    #'bag__n_estimators': [100, 150, 200],\n",
    "    'bag__base_estimator__max_depth': [200, 250, 300],\n",
    "    'bag__base_estimator__n_estimators': [150, 400]\n",
    "}\n",
    "\n",
    "\n",
    "grid_5 = RandomizedSearchCV(pipe_5, param_distributions=pipe_params5, cv=5, n_jobs=-1, random_state=0)\n",
    "\n",
    "grid_5.fit(X_train, y_train)\n",
    "\n",
    "#make predictions\n",
    "y_pred_5 = grid_5.predict(X_test)\n",
    "\n",
    "print(f'Train score: {grid_5.best_score_}')\n",
    "\n",
    "print(f'The Test accuracy of this model is: {grid_5.score(X_test, y_test)}')\n",
    "print(f'The Misclassification rate of this model is {1-grid_5.score(X_test, y_test)}')\n",
    "print(f'The F1 score of this model is {metrics.f1_score(y_test, y_pred_5, pos_label = \"cars\")}')"
   ]
  },
  {
   "cell_type": "code",
   "execution_count": 22,
   "id": "802f40b1-5d73-4be1-b6b6-807826c02517",
   "metadata": {},
   "outputs": [
    {
     "data": {
      "text/plain": [
       "{'cvec__ngram_range': (1, 2),\n",
       " 'cvec__min_df': 3,\n",
       " 'cvec__max_features': 10000,\n",
       " 'cvec__max_df': 0.95,\n",
       " 'bag__base_estimator__n_estimators': 400,\n",
       " 'bag__base_estimator__max_depth': 200}"
      ]
     },
     "execution_count": 22,
     "metadata": {},
     "output_type": "execute_result"
    }
   ],
   "source": [
    "grid_5.best_params_"
   ]
  },
  {
   "cell_type": "markdown",
   "id": "693e6c42-3a12-4862-a507-1b2d731be627",
   "metadata": {},
   "source": [
    "The two bagging models I have built have similar performances. Approximately equal R1 scores of 0.89, and an accuracy of over 86%. The LR base estimator bagging model only slightly outperforms the RF base estimator, but as noted earlier, it still falls a amall percentage short of our target.\n",
    "\n",
    "|Model Number|Model Type|Test Accuracy Achieved|Misclassification Rate|F1 Score|\n",
    "|---|---|---|---|---|\n",
    "|1|Logistic Regression|86.0%|14.0%|0.88|\n",
    "|2|Random Forest|80.2%|19.8%|0.85|\n",
    "|3|Multinomial Naive Bayes|85.3%|14.7%|0.87|\n",
    "|4|Bagged Classifier with LR base estimator|86.8%|13.2%|0.89|\n",
    "|5|Bagged Classifier with RF base estimator|86.5%|13.5%|0.89|\n",
    "\n",
    "Next, I am going to attempt a boosting technique. Boosting is generally thought to reduce bias which is what I am hoping to achieve in this problem. My preferred boosting technique for this problem would be the GradientBoosting classifier.\n",
    "\n",
    "## GradientBoosting Classifier"
   ]
  },
  {
   "cell_type": "code",
   "execution_count": 34,
   "id": "0c373962-b334-44c2-a36f-7f231bacd7d8",
   "metadata": {},
   "outputs": [
    {
     "name": "stdout",
     "output_type": "stream",
     "text": [
      "Train score: 0.8725156669650851\n",
      "The Test accuracy of this model is: 0.864124597207304\n",
      "The Misclassification rate of this model is 0.13587540279269605\n",
      "The F1 score of this model is 0.887305122494432\n"
     ]
    }
   ],
   "source": [
    "pipe_6 = Pipeline([\n",
    "    ('cvec', CountVectorizer(stop_words= stem_stopwords, tokenizer=my_stemmer, preprocessor=my_preprocessor)),\n",
    "    ('gb', GradientBoostingClassifier(random_state=0, max_features='sqrt'))\n",
    "])\n",
    "\n",
    "pipe_params6 = {\n",
    "    'cvec__max_features': [10000, 11000, 12000],\n",
    "    'cvec__min_df': [2, 3, 5],\n",
    "    'cvec__max_df': [0.95, 0.98, 0.99],\n",
    "   'cvec__ngram_range': [(1,2), (1,3), (2,2)],\n",
    "    'gb__learning_rate': [0.8, 0.1, 1.0],\n",
    "    'gb__max_depth': [10, 5, 7, 2],\n",
    "    'gb__n_estimators': [100, 125, 300],\n",
    "}\n",
    "\n",
    "\n",
    "grid_6 = RandomizedSearchCV(pipe_6, param_distributions=pipe_params6, cv=5, n_jobs=-1, random_state=0)\n",
    "\n",
    "grid_6.fit(X_train, y_train)\n",
    "\n",
    "#make predictions\n",
    "y_pred_6 = grid_6.predict(X_test)\n",
    "\n",
    "print(f'Train score: {grid_6.best_score_}')\n",
    "\n",
    "print(f'The Test accuracy of this model is: {grid_6.score(X_test, y_test)}')\n",
    "print(f'The Misclassification rate of this model is {1-grid_6.score(X_test, y_test)}')\n",
    "print(f'The F1 score of this model is {metrics.f1_score(y_test, y_pred_6, pos_label = \"cars\")}')"
   ]
  },
  {
   "cell_type": "code",
   "execution_count": 35,
   "id": "29e26d72-f81c-4bfe-a788-cbf974257eb9",
   "metadata": {},
   "outputs": [
    {
     "data": {
      "text/plain": [
       "{'gb__n_estimators': 300,\n",
       " 'gb__max_depth': 10,\n",
       " 'gb__learning_rate': 0.1,\n",
       " 'cvec__ngram_range': (1, 3),\n",
       " 'cvec__min_df': 3,\n",
       " 'cvec__max_features': 12000,\n",
       " 'cvec__max_df': 0.98}"
      ]
     },
     "execution_count": 35,
     "metadata": {},
     "output_type": "execute_result"
    }
   ],
   "source": [
    "grid_6.best_params_"
   ]
  },
  {
   "cell_type": "markdown",
   "id": "c26be997-84c5-47ad-81a5-4938068c9fe4",
   "metadata": {},
   "source": [
    "It appears most of our ensemble models are performing similarly. THis boosting model has same F1 score as the last two and similar accuracy as well.\n",
    "\n",
    "|Model Number|Model Type|Test Accuracy Achieved|Misclassification Rate|F1 Score|\n",
    "|---|---|---|---|---|\n",
    "|1|Logistic Regression|86.0%|14.0%|0.88|\n",
    "|2|Random Forest|80.2%|19.8%|0.85|\n",
    "|3|Multinomial Naive Bayes|85.3%|14.7%|0.87|\n",
    "|4|Bagged Classifier with LR base estimator|86.8%|13.2%|0.89|\n",
    "|5|Bagged Classifier with RF base estimator|86.5%|13.5%|0.89|\n",
    "|6|Gradient Boosting|86.4%|13.6%|0.89|\n",
    "\n",
    "## Voting Classifier"
   ]
  },
  {
   "cell_type": "code",
   "execution_count": 58,
   "id": "eeafa1e9-7149-4619-850e-6f3e2b5a7f1a",
   "metadata": {},
   "outputs": [
    {
     "name": "stdout",
     "output_type": "stream",
     "text": [
      "Train accuracy: 0.8825425246195167\n",
      "The Test accuracy of this model is: 0.8711063372717508\n",
      "The Misclassification rate of this model is 0.1288936627282492\n",
      "The F1 score of this model is 0.8924731182795699\n"
     ]
    }
   ],
   "source": [
    "#Going to use logistic regression, MNB, adaboost and gradient boost in pipelines that would be fed into my voting classifier\n",
    "\n",
    "logr_pipe = Pipeline([\n",
    "    ('cvec', CountVectorizer(stop_words= stem_stopwords, tokenizer=my_stemmer, preprocessor=my_preprocessor, ngram_range=(1,3))),\n",
    "    ('logr', LogisticRegression())])\n",
    "    \n",
    "mnb_pipe = Pipeline([\n",
    "    ('cvec', CountVectorizer(stop_words= stem_stopwords, tokenizer=my_stemmer, preprocessor=my_preprocessor, ngram_range=(1,3))),\n",
    "    ('mnb', MultinomialNB())])\n",
    "\n",
    "ada_pipe = Pipeline([\n",
    "    ('cvec', CountVectorizer(stop_words= stem_stopwords, tokenizer=my_stemmer, preprocessor=my_preprocessor, ngram_range=(1,3))),\n",
    "    ('ada', AdaBoostClassifier(base_estimator=LogisticRegression()))])\n",
    "\n",
    "gb_pipe = Pipeline([\n",
    "    ('cvec', CountVectorizer(stop_words= stem_stopwords, tokenizer=my_stemmer, preprocessor=my_preprocessor, ngram_range=(1,3))),\n",
    "    ('gb', GradientBoostingClassifier())])\n",
    "\n",
    "vote = VotingClassifier([\n",
    "    ('logr_pipe', logr_pipe),\n",
    "    ('mnb_pipe', mnb_pipe),\n",
    "    ('ada_pipe', ada_pipe),\n",
    "    ('gb_pipe', gb_pipe)\n",
    "], voting='soft', n_jobs=-1)\n",
    "\n",
    "#Fit\n",
    "vote.fit(X_train, y_train)\n",
    "\n",
    "#predict\n",
    "y_pred_8 = vote.predict(X_test)\n",
    "\n",
    "print(f'Train accuracy: {cross_val_score(vote, X_train, y_train).mean()}')\n",
    "\n",
    "# Test score\n",
    "print(f'The Test accuracy of this model is: {vote.score(X_test, y_test)}')\n",
    "print(f'The Misclassification rate of this model is {1-vote.score(X_test, y_test)}')\n",
    "print(f'The F1 score of this model is {metrics.f1_score(y_test, y_pred_8, pos_label = \"cars\")}')"
   ]
  },
  {
   "cell_type": "markdown",
   "id": "dfd40d29-e3c5-4e17-a081-b7ee114ecde2",
   "metadata": {},
   "source": [
    "|Model Number|Model Type|Test Accuracy Achieved|Misclassification Rate|F1 Score|\n",
    "|---|---|---|---|---|\n",
    "|1|Logistic Regression|86.0%|14.0%|0.88|\n",
    "|2|Random Forest|80.2%|19.8%|0.85|\n",
    "|3|Multinomial Naive Bayes|85.3%|14.7%|0.87|\n",
    "|4|Bagged Classifier with LR base estimator|86.8%|13.2%|0.89|\n",
    "|5|Bagged Classifier with RF base estimator|86.5%|13.5%|0.89|\n",
    "|6|Gradient Boosting|86.4%|13.6%|0.89|\n",
    "|7|Voting Classifier|87.1%|12.9%|0.89|\n",
    "\n",
    "## Stacked Classifier"
   ]
  },
  {
   "cell_type": "code",
   "execution_count": 51,
   "id": "4b475831-09d7-4d37-8c80-1321dc6834dc",
   "metadata": {},
   "outputs": [],
   "source": [
    "# Create the model using four level one estimators - logr, mnb, rf and bagging. The final estimator would be a logistic reg\n",
    "l1_estimator = [\n",
    "    ('logr_pipe', Pipeline([\n",
    "    ('cvec', CountVectorizer(stop_words= stem_stopwords, tokenizer=my_stemmer, preprocessor=my_preprocessor, ngram_range=(1,3))),\n",
    "    ('logr', LogisticRegression())])),\n",
    "    ('mnb_pipe', Pipeline([\n",
    "    ('cvec', CountVectorizer(stop_words= stem_stopwords, tokenizer=my_stemmer, preprocessor=my_preprocessor, ngram_range=(1,3))),\n",
    "    ('mnb', MultinomialNB())])),\n",
    "    ('rf_pipe', Pipeline([\n",
    "    ('cvec', CountVectorizer(stop_words= stem_stopwords, tokenizer=my_stemmer, preprocessor=my_preprocessor, ngram_range=(1,3))),\n",
    "    ('rf', RandomForestClassifier())])),\n",
    "    ('bag_pipe', Pipeline([\n",
    "    ('cvec', CountVectorizer(stop_words= stem_stopwords, tokenizer=my_stemmer, preprocessor=my_preprocessor, ngram_range=(1,3))),\n",
    "    ('bag', BaggingClassifier(base_estimator=LogisticRegression(C=3)))]))]\n",
    "\n",
    "stacked_model_3 = StackingClassifier(estimators=l1_estimator,\n",
    "                                 final_estimator=LogisticRegression(C=3, random_state=42))"
   ]
  },
  {
   "cell_type": "code",
   "execution_count": 53,
   "id": "7e206cbf-ee68-421e-9aa3-1b9c09c1b4f3",
   "metadata": {},
   "outputs": [
    {
     "name": "stdout",
     "output_type": "stream",
     "text": [
      "Train accuracy: 0.8859444941808416\n",
      "The Test accuracy of this model is: 0.8737916219119226\n",
      "The Misclassification rate of this model is 0.1262083780880774\n",
      "The F1 score of this model is 0.8934240362811792\n"
     ]
    }
   ],
   "source": [
    "# Fit\n",
    "stacked_model_3.fit(X_train, y_train)\n",
    "\n",
    "y_pred_7 = stacked_model_3.predict(X_test)\n",
    "\n",
    "# Cross-val score\n",
    "print(f'Train accuracy: {cross_val_score(stacked_model_3, X_train, y_train).mean()}')\n",
    "\n",
    "# Test score\n",
    "print(f'The Test accuracy of this model is: {stacked_model_3.score(X_test, y_test)}')\n",
    "print(f'The Misclassification rate of this model is {1-stacked_model_3.score(X_test, y_test)}')\n",
    "print(f'The F1 score of this model is {metrics.f1_score(y_test, y_pred_7, pos_label = \"cars\")}')"
   ]
  },
  {
   "cell_type": "markdown",
   "id": "fdfa804e-9de7-4b2e-a1b8-33b5745e8e59",
   "metadata": {},
   "source": [
    "At 87.4% test accuracy, this stacked model is now our best performing model. It performs well and does not overfit (88.6% vs 87.4% for train and test scores respectively). As with our last three models, the F1 score of this model also comes in at a high 0.89. \n",
    "\n",
    "|Model Number|Model Type|Test Accuracy Achieved|Misclassification Rate|F1 Score|\n",
    "|---|---|---|---|---|\n",
    "|1|Logistic Regression|86.0%|14.0%|0.88|\n",
    "|2|Random Forest|80.2%|19.8%|0.85|\n",
    "|3|Multinomial Naive Bayes|85.3%|14.7%|0.87|\n",
    "|4|Bagged Classifier with LR base estimator|86.8%|13.2%|0.89|\n",
    "|5|Bagged Classifier with RF base estimator|86.5%|13.5%|0.89|\n",
    "|6|Gradient Boosting|86.4%|13.6%|0.89|\n",
    "|7|Voting Classifier|87.1%|12.9%|0.89|\n",
    "|8|Stacked Classifier|87.4%|12.6%|0.89|"
   ]
  },
  {
   "cell_type": "markdown",
   "id": "212aefd4-3bdb-4fac-8fdf-64331ef7a861",
   "metadata": {},
   "source": [
    "## Some more feature engineering\n",
    "\n",
    "## Adding the character length feature\n",
    "\n",
    "Recall during the EDA that there was a small difference in the length of the characters between the titles in the `r/electricvehicles` subreddit compared to the `r/cars` subreddit. It was not a huge difference - an average of 59 characters for the `r/electricvehicles` subreddit compared to 52 for the `r/cars` subreddit. However, I wonder if including that character lengths column could help my models in making better predictions. I'll try that below."
   ]
  },
  {
   "cell_type": "code",
   "execution_count": 450,
   "id": "67dd4b74-a1b9-45fb-8772-c4782016e086",
   "metadata": {},
   "outputs": [],
   "source": [
    "X = ev_cars['title']\n",
    "y = ev_cars['subreddit']"
   ]
  },
  {
   "cell_type": "code",
   "execution_count": 451,
   "id": "cbd8788a-d7ac-4222-9052-0600d00db6b9",
   "metadata": {},
   "outputs": [
    {
     "data": {
      "text/plain": [
       "(7447, 72350)"
      ]
     },
     "execution_count": 451,
     "metadata": {},
     "output_type": "execute_result"
    }
   ],
   "source": [
    "#Now I will initiate a countvectorizer, then fit_transform the title columns, then convert to df\n",
    "\n",
    "cvt_1 = CountVectorizer(stop_words= stem_stopwords, tokenizer=my_stemmer, preprocessor=my_preprocessor, ngram_range=(1,3))\n",
    "\n",
    "X_vect = cvt_1.fit_transform(X)\n",
    "\n",
    "X_vect_df = pd.DataFrame(X_vect.todense(), columns=cvt_1.get_feature_names_out())\n",
    "X_vect_df.shape"
   ]
  },
  {
   "cell_type": "code",
   "execution_count": 452,
   "id": "8baec53f-68da-4a7a-816f-17c5c591be9f",
   "metadata": {},
   "outputs": [],
   "source": [
    "#defining a function that would help me in adding the new feature. Adapted from this Kaggle piece - https://www.kaggle.com/code/pceccon/countvectorizer-and-tfidf-strategies/notebook\n",
    "\n",
    "def add_feature(X, feature_to_add):\n",
    "    \"\"\"\n",
    "    Returns sparse feature matrix with added feature.\n",
    "    feature_to_add can also be a list of features\n",
    "    \"\"\"\n",
    "    from scipy.sparse import csr_matrix, hstack\n",
    "    return hstack([X, csr_matrix(feature_to_add).T], 'csr')"
   ]
  },
  {
   "cell_type": "code",
   "execution_count": 453,
   "id": "32a793db-be61-4a4d-aacd-16c4e0723fb3",
   "metadata": {},
   "outputs": [
    {
     "data": {
      "text/plain": [
       "<7447x72351 sparse matrix of type '<class 'numpy.int64'>'\n",
       "\twith 136468 stored elements in Compressed Sparse Row format>"
      ]
     },
     "execution_count": 453,
     "metadata": {},
     "output_type": "execute_result"
    }
   ],
   "source": [
    "#Adding the character length feature using the defined function above\n",
    "\n",
    "X_vect_df = add_feature(X_vect_df, X.str.len())\n",
    "X_vect_df"
   ]
  },
  {
   "cell_type": "code",
   "execution_count": 454,
   "id": "b2165768-ac81-479d-8631-b2912b528b9b",
   "metadata": {},
   "outputs": [
    {
     "data": {
      "text/plain": [
       "((5585, 72351), (1862, 72351), (5585,), (1862,))"
      ]
     },
     "execution_count": 454,
     "metadata": {},
     "output_type": "execute_result"
    }
   ],
   "source": [
    "#train-test split\n",
    "Xl_train, Xl_test, yl_train, yl_test = train_test_split(X_vect_df, y,stratify=y, random_state=42)\n",
    "Xl_train.shape, Xl_test.shape, yl_train.shape, yl_test.shape"
   ]
  },
  {
   "cell_type": "code",
   "execution_count": 609,
   "id": "6be3e2a7-69b6-4dd6-a88b-44c6db4365a5",
   "metadata": {},
   "outputs": [],
   "source": [
    "#My best model was the stacked classifier. I am going to use that model on this df that has my aditional length column\n",
    "\n",
    "l2_estimator = [\n",
    "    ('logr', LogisticRegression(C=3, max_iter=30000)),\n",
    "    ('mnb', MultinomialNB()),\n",
    "    ('rf', RandomForestClassifier()),\n",
    "    ('bag', BaggingClassifier(base_estimator=LogisticRegression(C=3, max_iter=30000)))]\n",
    "\n",
    "stacked_model_4 = StackingClassifier(estimators=l2_estimator,\n",
    "                                 final_estimator=LogisticRegression(C=3, random_state = 1, max_iter=30000))"
   ]
  },
  {
   "cell_type": "code",
   "execution_count": 610,
   "id": "b9fd8b5a-ba1a-498c-8687-dc25ed826f63",
   "metadata": {},
   "outputs": [
    {
     "name": "stdout",
     "output_type": "stream",
     "text": [
      "Train accuracy: 0.8837958818263205\n",
      "The Test accuracy of this model is: 0.8780880773361976\n",
      "The Misclassification rate of this model is 0.12191192266380235\n",
      "The F1 score of this model is 0.8966772872098315\n"
     ]
    }
   ],
   "source": [
    "# Fit\n",
    "stacked_model_4.fit(Xl_train, yl_train)\n",
    "\n",
    "y_pred_9 = stacked_model_4.predict(Xl_test)\n",
    "\n",
    "# Cross-val score\n",
    "print(f'Train accuracy: {cross_val_score(stacked_model_4, Xl_train, yl_train).mean()}')\n",
    "\n",
    "# Test score\n",
    "print(f'The Test accuracy of this model is: {stacked_model_4.score(Xl_test, yl_test)}')\n",
    "print(f'The Misclassification rate of this model is {1-stacked_model_4.score(Xl_test, yl_test)}')\n",
    "print(f'The F1 score of this model is {metrics.f1_score(yl_test, y_pred_9, pos_label = \"cars\")}')"
   ]
  },
  {
   "cell_type": "code",
   "execution_count": 480,
   "id": "f8dedf0b-6e68-4d6b-8a75-5495e2e6aa4f",
   "metadata": {},
   "outputs": [],
   "source": [
    "l3_estimator = [\n",
    "    ('logr', LogisticRegression(C=3, max_iter=20000)),\n",
    "    ('mnb', MultinomialNB()),\n",
    "    ('ada', RandomForestClassifier()),\n",
    "    ('bag', BaggingClassifier(base_estimator=LogisticRegression(C=3, max_iter = 20000)))]\n",
    "\n",
    "stacked_model_5 = StackingClassifier(estimators=l3_estimator,\n",
    "                                 final_estimator=LogisticRegression(C=3, random_state=1, max_iter=20000))"
   ]
  },
  {
   "cell_type": "code",
   "execution_count": 481,
   "id": "feac8360-f98c-421d-ac25-509b08aa3b8a",
   "metadata": {},
   "outputs": [
    {
     "name": "stdout",
     "output_type": "stream",
     "text": [
      "Train accuracy: 0.8871978513876455\n",
      "The Test accuracy of this model is: 0.8791621911922664\n",
      "The Misclassification rate of this model is 0.12083780880773365\n",
      "The F1 score of this model is 0.8969258589511755\n"
     ]
    }
   ],
   "source": [
    "# Fit\n",
    "stacked_model_5.fit(Xl_train, yl_train)\n",
    "\n",
    "y_pred_10 = stacked_model_5.predict(Xl_test)\n",
    "\n",
    "# Cross-val score\n",
    "print(f'Train accuracy: {cross_val_score(stacked_model_5, Xl_train, yl_train).mean()}')\n",
    "\n",
    "# Test score\n",
    "print(f'The Test accuracy of this model is: {stacked_model_5.score(Xl_test, yl_test)}')\n",
    "print(f'The Misclassification rate of this model is {1-stacked_model_5.score(Xl_test, yl_test)}')\n",
    "print(f'The F1 score of this model is {metrics.f1_score(yl_test, y_pred_9, pos_label = \"cars\")}')"
   ]
  },
  {
   "cell_type": "markdown",
   "id": "cfa88a74-f8c8-48e2-a900-16f15556e43d",
   "metadata": {},
   "source": [
    "**Running scores:**\n",
    "\n",
    "|Model Number|Model Type|Test Accuracy Achieved|Misclassification Rate|F1 Score|\n",
    "|---|---|---|---|---|\n",
    "|1|Logistic Regression|86.0%|14.0%|0.88|\n",
    "|2|Random Forest|80.2%|19.8%|0.85|\n",
    "|3|Multinomial Naive Bayes|85.3%|14.7%|0.87|\n",
    "|4|Bagged Classifier with LR base estimator|86.8%|13.2%|0.89|\n",
    "|5|Bagged Classifier with RF base estimator|86.5%|13.5%|0.89|\n",
    "|6|Gradient Boosting|86.4%|13.6%|0.89|\n",
    "|7|Voting Classifier|87.1%|12.9%|0.89|\n",
    "|8|Stacked Classifier|87.4%|12.6%|0.89|\n",
    "|9|Stacked Classifier with character length feature|87.9%|12.1%|0.90|\n",
    "\n",
    "**Important Takeaway:**\n",
    "\n",
    "Adding the character lengths as a feature has slightly improved the model. Our accuracy is now at 87.9%, and the model is only misclassifying about 12 of 100 posts. Most importantly, our F1 score is now at 0.90, meaning that this model has achieved one of the prerequisites given by my boss at the beginning of the project to achieve an F1 Score of 0.90. Even though the accuracy did not hit the 0.90 mark, hitting 0.90 for the F1 score means our model meets one of two criteria given. Hence, this is the model I will recommend for production.\n",
    "\n",
    "## Visualizing our top 5 models\n",
    "All our top models performed much better than the baseline accuracy of 58%. They all had high accuracy and F1 scores with minimal misclassifications. I expect the bar chart below to have bars close to each other indicating the similarity of performances of our models. "
   ]
  },
  {
   "cell_type": "code",
   "execution_count": 555,
   "id": "fc22bd59-ea66-441f-a038-0cc558b8059b",
   "metadata": {},
   "outputs": [
    {
     "data": {
      "text/html": [
       "<div>\n",
       "<style scoped>\n",
       "    .dataframe tbody tr th:only-of-type {\n",
       "        vertical-align: middle;\n",
       "    }\n",
       "\n",
       "    .dataframe tbody tr th {\n",
       "        vertical-align: top;\n",
       "    }\n",
       "\n",
       "    .dataframe thead th {\n",
       "        text-align: right;\n",
       "    }\n",
       "</style>\n",
       "<table border=\"1\" class=\"dataframe\">\n",
       "  <thead>\n",
       "    <tr style=\"text-align: right;\">\n",
       "      <th></th>\n",
       "      <th>Model</th>\n",
       "      <th>Accuracy</th>\n",
       "      <th>F1 Score</th>\n",
       "    </tr>\n",
       "  </thead>\n",
       "  <tbody>\n",
       "    <tr>\n",
       "      <th>0</th>\n",
       "      <td>Stacked Classifier with length</td>\n",
       "      <td>0.879</td>\n",
       "      <td>0.897</td>\n",
       "    </tr>\n",
       "    <tr>\n",
       "      <th>1</th>\n",
       "      <td>Stacked Classifier</td>\n",
       "      <td>0.874</td>\n",
       "      <td>0.893</td>\n",
       "    </tr>\n",
       "    <tr>\n",
       "      <th>2</th>\n",
       "      <td>Voting Classifier</td>\n",
       "      <td>0.871</td>\n",
       "      <td>0.892</td>\n",
       "    </tr>\n",
       "    <tr>\n",
       "      <th>3</th>\n",
       "      <td>Bagged Classifier</td>\n",
       "      <td>0.868</td>\n",
       "      <td>0.891</td>\n",
       "    </tr>\n",
       "    <tr>\n",
       "      <th>4</th>\n",
       "      <td>Gradient Boosting</td>\n",
       "      <td>0.864</td>\n",
       "      <td>0.887</td>\n",
       "    </tr>\n",
       "  </tbody>\n",
       "</table>\n",
       "</div>"
      ],
      "text/plain": [
       "                            Model  Accuracy  F1 Score\n",
       "0  Stacked Classifier with length     0.879     0.897\n",
       "1              Stacked Classifier     0.874     0.893\n",
       "2               Voting Classifier     0.871     0.892\n",
       "3               Bagged Classifier     0.868     0.891\n",
       "4               Gradient Boosting     0.864     0.887"
      ]
     },
     "execution_count": 555,
     "metadata": {},
     "output_type": "execute_result"
    }
   ],
   "source": [
    "#Create a dataframe of our top 5 models and the scores for each\n",
    "\n",
    "d = {'Model': ['Stacked Classifier with length', 'Stacked Classifier', 'Voting Classifier', 'Bagged Classifier', 'Gradient Boosting'],\n",
    "'Accuracy': [0.879, 0.874, 0.871, 0.868, 0.864],\n",
    "'F1 Score': [0.897, 0.893, 0.892, 0.891, 0.887]}\n",
    "\n",
    "models = pd.DataFrame(data=d)\n",
    "models"
   ]
  },
  {
   "cell_type": "code",
   "execution_count": 604,
   "id": "f3949a87-fe7e-4b0a-b7a6-6c599ecf811a",
   "metadata": {},
   "outputs": [
    {
     "data": {
      "image/png": "[encoded data removed]",
      "text/plain": [
       "<Figure size 1008x576 with 1 Axes>"
      ]
     },
     "metadata": {
      "needs_background": "light"
     },
     "output_type": "display_data"
    }
   ],
   "source": [
    "\n",
    "p = models.plot(x = 'Model',\n",
    "                   kind='barh', \n",
    "                   stacked=False, \n",
    "                   figsize=(14,8), \n",
    "                   fontsize=15, width = 0.7)\n",
    "\n",
    "p.axvline(linewidth=4, color='r', x=0.58)\n",
    "\n",
    "p.invert_yaxis()\n",
    "plt.legend(loc='upper right')\n",
    "plt.title('All 5 top models perform much better than the baseline accuracy (in red)', size=17, fontweight='bold')\n",
    "plt.ylabel('Model', size=20, fontweight='bold'),\n",
    "plt.yticks(fontsize=15)\n",
    "plt.tight_layout()\n",
    "plt.savefig('../images/top_models.png', dpi=300);"
   ]
  },
  {
   "cell_type": "markdown",
   "id": "37c3c8e5-81fc-4cf1-bcf1-f946581aee64",
   "metadata": {},
   "source": [
    "## Are there posts that our two top models are both misclassifying? "
   ]
  },
  {
   "cell_type": "code",
   "execution_count": 557,
   "id": "e4612fca-a48e-4d72-ac48-e22c8dbe9b04",
   "metadata": {},
   "outputs": [],
   "source": [
    "def miss(preds):\n",
    "    \"\"\"\n",
    "    Function returns a dataframe of misclassified posts when predicted values\n",
    "    are provided as arguments. \n",
    "    `preds` can be any model's model.predict(X_test) result\n",
    "    \"\"\"\n",
    "    df = pd.DataFrame()\n",
    "    df['predictions'] = preds \n",
    "    df['true_values'] = list(y_test)\n",
    "    df['title'] = list(X_test)\n",
    "    return df[df['predictions'] != df['true_values']]"
   ]
  },
  {
   "cell_type": "code",
   "execution_count": 558,
   "id": "6f512554-3c7b-4b45-bcfe-1848e92af02e",
   "metadata": {},
   "outputs": [
    {
     "data": {
      "text/html": [
       "<div>\n",
       "<style scoped>\n",
       "    .dataframe tbody tr th:only-of-type {\n",
       "        vertical-align: middle;\n",
       "    }\n",
       "\n",
       "    .dataframe tbody tr th {\n",
       "        vertical-align: top;\n",
       "    }\n",
       "\n",
       "    .dataframe thead th {\n",
       "        text-align: right;\n",
       "    }\n",
       "</style>\n",
       "<table border=\"1\" class=\"dataframe\">\n",
       "  <thead>\n",
       "    <tr style=\"text-align: right;\">\n",
       "      <th></th>\n",
       "      <th>predictions</th>\n",
       "      <th>true_values</th>\n",
       "      <th>title</th>\n",
       "    </tr>\n",
       "  </thead>\n",
       "  <tbody>\n",
       "    <tr>\n",
       "      <th>7</th>\n",
       "      <td>cars</td>\n",
       "      <td>electricvehicles</td>\n",
       "      <td>Flat Out in My Rimac Nevera in Monaco! 0-100 i...</td>\n",
       "    </tr>\n",
       "    <tr>\n",
       "      <th>12</th>\n",
       "      <td>electricvehicles</td>\n",
       "      <td>cars</td>\n",
       "      <td>U.S. auto sales to fall in 2022, GM set to rec...</td>\n",
       "    </tr>\n",
       "    <tr>\n",
       "      <th>23</th>\n",
       "      <td>electricvehicles</td>\n",
       "      <td>cars</td>\n",
       "      <td>A Farewell to the Internal Combustion Engine</td>\n",
       "    </tr>\n",
       "    <tr>\n",
       "      <th>24</th>\n",
       "      <td>electricvehicles</td>\n",
       "      <td>cars</td>\n",
       "      <td>For U.S. Companies, the Race for the New EV Ba...</td>\n",
       "    </tr>\n",
       "    <tr>\n",
       "      <th>26</th>\n",
       "      <td>electricvehicles</td>\n",
       "      <td>cars</td>\n",
       "      <td>Hello! I am a research student researching the...</td>\n",
       "    </tr>\n",
       "  </tbody>\n",
       "</table>\n",
       "</div>"
      ],
      "text/plain": [
       "         predictions       true_values  \\\n",
       "7               cars  electricvehicles   \n",
       "12  electricvehicles              cars   \n",
       "23  electricvehicles              cars   \n",
       "24  electricvehicles              cars   \n",
       "26  electricvehicles              cars   \n",
       "\n",
       "                                                title  \n",
       "7   Flat Out in My Rimac Nevera in Monaco! 0-100 i...  \n",
       "12  U.S. auto sales to fall in 2022, GM set to rec...  \n",
       "23       A Farewell to the Internal Combustion Engine  \n",
       "24  For U.S. Companies, the Race for the New EV Ba...  \n",
       "26  Hello! I am a research student researching the...  "
      ]
     },
     "execution_count": 558,
     "metadata": {},
     "output_type": "execute_result"
    }
   ],
   "source": [
    "#Testing function on one of our predictions\n",
    "\n",
    "miss(y_pred_9).head()"
   ]
  },
  {
   "cell_type": "code",
   "execution_count": 568,
   "id": "46d1e9ad-f263-4b89-b08b-7b5639e94d30",
   "metadata": {},
   "outputs": [
    {
     "name": "stdout",
     "output_type": "stream",
     "text": [
      "Our top model is misclassifying 225 posts\n",
      "Our next best model is misclassifying 235 posts\n",
      "There are 210 posts that are being misclassified both by our top model and the next best model\n"
     ]
    }
   ],
   "source": [
    "#How many posts are being misclassified by both our top performing model and the next best performing model?\n",
    "\n",
    "a = miss(y_pred_10)  #our top model\n",
    "b = miss(y_pred_7)   #our second top model\n",
    "\n",
    "print(f'Our top model is misclassifying {a.shape[0]} posts')\n",
    "print(f'Our next best model is misclassifying {b.shape[0]} posts')\n",
    "\n",
    "total = 0\n",
    "for r in a.index:\n",
    "    if r in b.index:\n",
    "        total+=1\n",
    "print(f'There are {total} posts that are being misclassified both by our top model and the next best model')"
   ]
  },
  {
   "cell_type": "code",
   "execution_count": 598,
   "id": "c218eab4-0439-4f6f-912c-49b1d04c93e3",
   "metadata": {},
   "outputs": [
    {
     "data": {
      "text/html": [
       "<div>\n",
       "<style scoped>\n",
       "    .dataframe tbody tr th:only-of-type {\n",
       "        vertical-align: middle;\n",
       "    }\n",
       "\n",
       "    .dataframe tbody tr th {\n",
       "        vertical-align: top;\n",
       "    }\n",
       "\n",
       "    .dataframe thead th {\n",
       "        text-align: right;\n",
       "    }\n",
       "</style>\n",
       "<table border=\"1\" class=\"dataframe\">\n",
       "  <thead>\n",
       "    <tr style=\"text-align: right;\">\n",
       "      <th></th>\n",
       "      <th>predictions</th>\n",
       "      <th>true_values</th>\n",
       "      <th>title</th>\n",
       "    </tr>\n",
       "  </thead>\n",
       "  <tbody>\n",
       "    <tr>\n",
       "      <th>7</th>\n",
       "      <td>cars</td>\n",
       "      <td>electricvehicles</td>\n",
       "      <td>Flat Out in My Rimac Nevera in Monaco! 0-100 i...</td>\n",
       "    </tr>\n",
       "    <tr>\n",
       "      <th>12</th>\n",
       "      <td>electricvehicles</td>\n",
       "      <td>cars</td>\n",
       "      <td>U.S. auto sales to fall in 2022, GM set to rec...</td>\n",
       "    </tr>\n",
       "    <tr>\n",
       "      <th>23</th>\n",
       "      <td>electricvehicles</td>\n",
       "      <td>cars</td>\n",
       "      <td>A Farewell to the Internal Combustion Engine</td>\n",
       "    </tr>\n",
       "    <tr>\n",
       "      <th>24</th>\n",
       "      <td>electricvehicles</td>\n",
       "      <td>cars</td>\n",
       "      <td>For U.S. Companies, the Race for the New EV Ba...</td>\n",
       "    </tr>\n",
       "    <tr>\n",
       "      <th>26</th>\n",
       "      <td>electricvehicles</td>\n",
       "      <td>cars</td>\n",
       "      <td>Hello! I am a research student researching the...</td>\n",
       "    </tr>\n",
       "  </tbody>\n",
       "</table>\n",
       "</div>"
      ],
      "text/plain": [
       "         predictions       true_values  \\\n",
       "7               cars  electricvehicles   \n",
       "12  electricvehicles              cars   \n",
       "23  electricvehicles              cars   \n",
       "24  electricvehicles              cars   \n",
       "26  electricvehicles              cars   \n",
       "\n",
       "                                                title  \n",
       "7   Flat Out in My Rimac Nevera in Monaco! 0-100 i...  \n",
       "12  U.S. auto sales to fall in 2022, GM set to rec...  \n",
       "23       A Farewell to the Internal Combustion Engine  \n",
       "24  For U.S. Companies, the Race for the New EV Ba...  \n",
       "26  Hello! I am a research student researching the...  "
      ]
     },
     "execution_count": 598,
     "metadata": {},
     "output_type": "execute_result"
    }
   ],
   "source": [
    "#Look at some of the posts being misclassified\n",
    "explore = a.head()\n",
    "explore"
   ]
  },
  {
   "cell_type": "code",
   "execution_count": 596,
   "id": "3b8eb5bc-72ec-45e7-95b1-7743f281681f",
   "metadata": {},
   "outputs": [
    {
     "data": {
      "text/plain": [
       "['For U.S. Companies, the Race for the New EV Battery Is On',\n",
       " 'Hello! I am a research student researching the opinions on electric cars. Please help me by completing my 1-minute survey for this project. Thank you.']"
      ]
     },
     "execution_count": 596,
     "metadata": {},
     "output_type": "execute_result"
    }
   ],
   "source": [
    "#Consider the last two posts\n",
    "[a['title'][i] for i in explore.index[-2:]]"
   ]
  },
  {
   "cell_type": "markdown",
   "id": "cedf275d-408c-4127-bd1c-0658245b6f5d",
   "metadata": {},
   "source": [
    "**The last post from above reads thus**: \n",
    "\n",
    ">Hello! I am a research student researching the opinions on electric cars. Please help me by completing my 1-minute survey for this project. Thank you. \n",
    "\n",
    "If anyone had shown this to me and asked me to guess which subreddit it would belong to, I'll most likely go for `r/electricvehicles`. That's sensible. And that's what our models went for. The problem is it was actually posted in the `r/cars` subreddit. \n",
    "\n",
    "**Next to it**\n",
    "\n",
    ">For U.S. Companies, the Race for the New EV Battery Is On\n",
    "\n",
    "Another one for which I would have chosen the `r/electricvehicles` subreddit - just like our models did - but was actually posted in the `r/cars` subreddit.\n",
    "\n",
    "There were several others like these from either class, wrongly predicted by the model, but which truly could have gone either way. This is not surprising. The two subreddits are very similar, and arguably a majority of posts shared on one could legitimately be shared on the other. Considering all that, I believe that an accuracy of 88% is solid. \n",
    "\n",
    "## Conclusions & Recommendations\n",
    "\n",
    "Recall that my assignment was to:\n",
    "1. Collect more data from the two subreddits, using [Pushshift's](https://github.com/pushshift/api) API.\n",
    "**Outcome: I collected enough data from the two subreddits. The number was high enough to give me confidence about my models' abilities to solve the task.** \n",
    "\n",
    "2. Use Natural Language Processing to train a classifier on which subreddit a given post came from. \n",
    "**Outcome: I trained several high performing predictive models with accuracies far above the baseline. I was informed that before the model can be put into production, it had to either achieve 90% accuracy or an F1 score of 90%. While none of my models managed to reach 90% accuracy, one of my models achieved an F1 score of 90%. That model was a stacked classifier comprising of LogisticRegression, Multinomial Naive Bayes, RandomForestClassifier, and Bagging Classifier as the first level estimators; and a Logisticregression model as the final estimator.** \n",
    "\n",
    "3. Make a presentation outlining my process and findings.\n",
    "**A powerpoint presentation is included in this project and would be delivered as requested.** \n",
    "\n",
    "**My recommendations are as follows:**\n",
    "- I have submitted my findings as requested, but if there is more time I would love to incorporate the texts of the posts as well. I only used the titles in this instance, but I believed that adding the texts could further help my models in differentiating between the classes. \n",
    "- I recommend that my Stacked Classifier which got the highest F1 score be put into production as it meets the 0.90 F1 score criteria. Further its other metrics, including an accuracy of 88% and a misclassification rate of 12 out of 100 is solid enough to proceed with. "
   ]
  },
  {
   "cell_type": "code",
   "execution_count": null,
   "id": "2c34a910-45d4-41b0-ace7-d645c44cff9d",
   "metadata": {},
   "outputs": [],
   "source": []
  }
 ],
 "metadata": {
  "kernelspec": {
   "display_name": "Python 3 (ipykernel)",
   "language": "python",
   "name": "python3"
  },
  "language_info": {
   "codemirror_mode": {
    "name": "ipython",
    "version": 3
   },
   "file_extension": ".py",
   "mimetype": "text/x-python",
   "name": "python",
   "nbconvert_exporter": "python",
   "pygments_lexer": "ipython3",
   "version": "3.9.12"
  }
 },
 "nbformat": 4,
 "nbformat_minor": 5
}
